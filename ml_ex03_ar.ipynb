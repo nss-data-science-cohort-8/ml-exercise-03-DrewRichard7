{
 "cells": [
  {
   "cell_type": "markdown",
   "id": "0434734e",
   "metadata": {},
   "source": [
    "## Machine Learning Exercise 3: Bias and Variance\n",
    "\n",
    "**Bias** refers to the error introduced by approximating a complex real-world problem with a simplified model, while **variance** refers to the model's sensitivity to fluctuations in the training data. A linear regression model has high bias and low variance; it makes strong assumptions about the data (linearity) but is stable across different datasets. If these strong assumptions are not correct, there will be places where it systematically overestimates or underestimates. In contrast, a decision tree model has low bias and high variance;it can capture complex patterns but is prone to overfitting, especially if deep and unpruned. This means that it can start to memorize the training data rather than capturing patterns that generalize.\n"
   ]
  },
  {
   "cell_type": "code",
   "execution_count": 2,
   "id": "4fbdba3e",
   "metadata": {},
   "outputs": [],
   "source": [
    "import pandas as pd\n",
    "import matplotlib.pyplot as plt\n",
    "import numpy as np\n",
    "import plotly.express as px\n",
    "import itables\n",
    "from sklearn.preprocessing import OneHotEncoder, Normalizer, StandardScaler, PolynomialFeatures\n",
    "from sklearn.model_selection import train_test_split, cross_val_score, KFold, GridSearchCV\n",
    "from sklearn.linear_model import LinearRegression, LogisticRegression, Ridge, Lasso, RidgeCV, LassoCV\n",
    "from sklearn.neighbors import KNeighborsClassifier, KNeighborsRegressor\n",
    "from sklearn.tree import DecisionTreeClassifier, DecisionTreeRegressor\n",
    "from sklearn import metrics\n",
    "from sklearn.metrics import r2_score, mean_squared_error, mean_absolute_error, root_mean_squared_error, mean_absolute_percentage_error, confusion_matrix, classification_report, roc_curve, roc_auc_score, RocCurveDisplay\n",
    "from sklearn.compose import TransformedTargetRegressor, ColumnTransformer\n",
    "from sklearn.impute import SimpleImputer\n",
    "from sklearn.pipeline import Pipeline\n",
    "from itertools import product\n"
   ]
  },
  {
   "cell_type": "markdown",
   "id": "91c6f31f",
   "metadata": {},
   "source": [
    "1. Fit a linear regression model to the housing data, using sqft_living to predict price. Check the mean squared error on the training data and the test data."
   ]
  },
  {
   "cell_type": "code",
   "execution_count": 3,
   "id": "9377d22d",
   "metadata": {},
   "outputs": [
    {
     "name": "stdout",
     "output_type": "stream",
     "text": [
      "<class 'list'>\n",
      "mse train = 65713942542.23366\n",
      "mean squared error test:  74509993356.49603\n",
      "R^2:  0.48388319278201475\n"
     ]
    }
   ],
   "source": [
    "house_data = pd.read_csv(\"./data/kc_house_data.csv\")\n",
    "predictors = [\"sqft_living\"]\n",
    "target = \"price\"\n",
    "\n",
    "print(type(predictors))\n",
    "\n",
    "X = house_data[predictors]\n",
    "y = house_data[target]\n",
    "\n",
    "X_train, X_test, y_train, y_test = train_test_split(X, y, test_size = 0.3, random_state = 42)\n",
    "\n",
    "linreg = LinearRegression()\n",
    "linreg.fit(X_train, y_train)\n",
    "y_pred = linreg.predict(X_test)\n",
    "\n",
    "print(f\"mse train = {mean_squared_error(y_true = y_train, y_pred = linreg.predict(X_train))}\")\n",
    "print(\"mean squared error test: \", mean_squared_error(y_true = y_test, y_pred = y_pred))\n",
    "\n",
    "print(\"R^2: \", r2_score(y_test, y_pred))"
   ]
  },
  {
   "cell_type": "markdown",
   "id": "d3890c88",
   "metadata": {},
   "source": [
    "\n",
    "2. Repeat this but with a [DecisionTreeRegresor](https://scikit-learn.org/stable/modules/generated/sklearn.tree.DecisionTreeRegressor.html). Again check the mean squared error on the training data and the test data. How does what you see differ from the linear regression model?\n"
   ]
  },
  {
   "cell_type": "code",
   "execution_count": 4,
   "id": "4c073658",
   "metadata": {},
   "outputs": [
    {
     "name": "stdout",
     "output_type": "stream",
     "text": [
      "mse train = 48410745078.45624\n",
      "mean squared error:  79044952597.92511\n"
     ]
    }
   ],
   "source": [
    "X = house_data[predictors]\n",
    "y = house_data[target]\n",
    "\n",
    "X_train, X_test, y_train, y_test = train_test_split(X, y, test_size = 0.3, random_state = 42)\n",
    "\n",
    "dtreer = DecisionTreeRegressor()\n",
    "dtreer.fit(X_train, y_train)\n",
    "y_pred = dtreer.predict(X_test)\n",
    "\n",
    "print(f\"mse train = {mean_squared_error(y_true = y_train, y_pred = dtreer.predict(X_train))}\")\n",
    "print(\"mean squared error: \", mean_squared_error(y_test, y_pred))\n",
    "\n"
   ]
  },
  {
   "cell_type": "markdown",
   "id": "3a94ceb3",
   "metadata": {},
   "source": [
    "the MSE is higher for the decision tree regressor. "
   ]
  },
  {
   "cell_type": "markdown",
   "id": "dbb745be",
   "metadata": {},
   "source": [
    "\n",
    "One way of avoiding overfitting is by restricting the flexibility of the model. We can do this with a decision tree by restricting the number of splits that it can perform. \n"
   ]
  },
  {
   "cell_type": "markdown",
   "id": "5f495115",
   "metadata": {},
   "source": [
    "3. Fit a DecisionTreeRegressor where you restrict the max_depth to 5. Again check the mean squared error on the training data and the test data. What do you notice now?"
   ]
  },
  {
   "cell_type": "code",
   "execution_count": 5,
   "id": "681a6e19",
   "metadata": {},
   "outputs": [
    {
     "name": "stdout",
     "output_type": "stream",
     "text": [
      "mse train = 56030892751.02288\n",
      "mean squared error:  73264250436.88351\n"
     ]
    }
   ],
   "source": [
    "X = house_data[predictors]\n",
    "y = house_data[target]\n",
    "\n",
    "X_train, X_test, y_train, y_test = train_test_split(X, y, test_size = 0.3, random_state = 42)\n",
    "\n",
    "dtreer = DecisionTreeRegressor(max_depth=5)\n",
    "dtreer.fit(X_train, y_train)\n",
    "y_pred = dtreer.predict(X_test)\n",
    "\n",
    "print(f\"mse train = {mean_squared_error(y_true = y_train, y_pred = dtreer.predict(X_train))}\")\n",
    "print(\"mean squared error: \", mean_squared_error(y_test, y_pred))\n"
   ]
  },
  {
   "cell_type": "markdown",
   "id": "2f9cbc5f",
   "metadata": {},
   "source": [
    "the MSE went down and r^2 went up. better fit."
   ]
  },
  {
   "cell_type": "markdown",
   "id": "2d1bcf83",
   "metadata": {},
   "source": [
    "When working with machine learning models, we often have to balance bias and variance. This is called the [bias-variance tradeoff](https://en.wikipedia.org/wiki/Bias%E2%80%93variance_tradeoff). One method of this is through [regularization](https://www.ibm.com/think/topics/regularization), where we restrict the complexity of the model, adding some bias but reducing the variance, which can lead to a lower mean squared error on the test set."
   ]
  },
  {
   "cell_type": "markdown",
   "id": "4a716a39",
   "metadata": {},
   "source": [
    "Lasso and ridge regression do this by adding a penalty term based on the size of the coefficients. Smaller coefficients means that the model has less flexibility. The neat thing about these types of models is that they determine how to allocate the coefficients automatically as part of the model fitting process, so we can start with a large set of potential predictors and allow the model fitting to determine which ones to focus on."
   ]
  },
  {
   "cell_type": "markdown",
   "id": "328e4b07",
   "metadata": {},
   "source": [
    "For the next part of the exercise, we'll see how we can add complexity to our model but control the complexity through regularization."
   ]
  },
  {
   "cell_type": "markdown",
   "id": "63a9c9d8",
   "metadata": {},
   "source": [
    "\n",
    "4. So far, we've only been predicting based off of the square footage of living space. Fit a new linear regression model using all variables besides id, date, price, and zipcode. How well does this model perform on the test set compared to the model with just square footage of living space?\n"
   ]
  },
  {
   "cell_type": "code",
   "execution_count": 6,
   "id": "46ec0fbb",
   "metadata": {},
   "outputs": [
    {
     "name": "stdout",
     "output_type": "stream",
     "text": [
      "mean squared error:  44093475276.57266\n"
     ]
    }
   ],
   "source": [
    "predictors = list(house_data.drop(columns=[\"id\", \"date\", \"price\", \"zipcode\"]).columns)\n",
    "target = \"price\"\n",
    "\n",
    "X = house_data[predictors]\n",
    "y = house_data[target]\n",
    "\n",
    "X_train, X_test, y_train, y_test = train_test_split(X, y, test_size = 0.3, random_state = 42)\n",
    "linreg = LinearRegression()\n",
    "linreg.fit(X_train, y_train)\n",
    "y_pred = linreg.predict(X_test)\n",
    "\n",
    "print(\"mean squared error: \", mean_squared_error(y_test, y_pred))\n",
    "\n"
   ]
  },
  {
   "cell_type": "markdown",
   "id": "1c37a29c",
   "metadata": {},
   "source": [
    "this model does better than the model using just the sqftage. "
   ]
  },
  {
   "cell_type": "markdown",
   "id": "416434c6",
   "metadata": {},
   "source": [
    "5. Try fitting a lasso and ridge model. Becuase lasso and ridge have penalty terms based on the size of the coefficients, and the size of the coefficients depends on the scale of the variable, you'll want to scale the features first so that they are on comparable scales. Create a [Pipeline](https://scikit-learn.org/stable/modules/generated/sklearn.pipeline.Pipeline.html) object where the first step is applying a [StandardScaler](https://scikit-learn.org/stable/modules/generated/sklearn.preprocessing.StandardScaler.html) and the second step is either a lasso or ridge model. Because these models have a hyperparameter controlling regularization strength, you'll want to use the [LassoCV](https://scikit-learn.org/stable/modules/generated/sklearn.linear_model.LassoCV.html) and [RidgeCV](https://scikit-learn.org/stable/modules/generated/sklearn.linear_model.RidgeCV.html) models, which will select values for the regularization strength using cross-validation."
   ]
  },
  {
   "cell_type": "code",
   "execution_count": 7,
   "id": "f17ecf1a",
   "metadata": {},
   "outputs": [
    {
     "name": "stdout",
     "output_type": "stream",
     "text": [
      "mean squared error:  44128929521.62934\n"
     ]
    }
   ],
   "source": [
    "X_train, X_test, y_train, y_test = train_test_split(X, y, test_size = 0.3, random_state = 42)\n",
    "\n",
    "steps = [\n",
    "    (\"scale\", StandardScaler()),\n",
    "    (\"lasso\", LassoCV())\n",
    "]\n",
    "\n",
    "pipeline = Pipeline(steps)\n",
    "pipeline.fit(X_train, y_train)\n",
    "y_pred = pipeline.predict(X_test)\n",
    "\n",
    "\n",
    "print(\"mean squared error: \", mean_squared_error(y_test, y_pred))"
   ]
  },
  {
   "cell_type": "code",
   "execution_count": 8,
   "id": "7309f77e",
   "metadata": {},
   "outputs": [
    {
     "name": "stdout",
     "output_type": "stream",
     "text": [
      "mean squared error:  44094763932.52806\n",
      "root mean squared error:  209987.53280261203\n",
      "mean absolute error:  127878.04498292944\n",
      "mean absolute percentage error:  0.25290584991142046\n",
      "R^2:  0.694563806132684\n"
     ]
    }
   ],
   "source": [
    "steps = [\n",
    "    (\"scale\", StandardScaler()),\n",
    "    (\"ridge\", RidgeCV())\n",
    "]\n",
    "\n",
    "pipeline = Pipeline(steps)\n",
    "pipeline.fit(X_train, y_train)\n",
    "y_pred = pipeline.predict(X_test)\n",
    "\n",
    "\n",
    "print(\"mean squared error: \", mean_squared_error(y_test, y_pred))\n",
    "print(\"root mean squared error: \", root_mean_squared_error(y_test, y_pred))\n",
    "print(\"mean absolute error: \", mean_absolute_error(y_test, y_pred))\n",
    "print(\"mean absolute percentage error: \", mean_absolute_percentage_error(y_test, y_pred))\n",
    "print(\"R^2: \", r2_score(y_test, y_pred))"
   ]
  },
  {
   "cell_type": "markdown",
   "id": "b9bd60ab",
   "metadata": {},
   "source": [
    "You likely didn't see much difference between the regular linear regression model and the lasso or ridge model. Let's see what happens if we add more complexity through feature interactions. We can capture more complex relationships between the predictor variables and the target variable by multiplying the predictors together before fitting the model. For example, the interaction between sqft_living and bedrooms will let the model capture if the impact of square footage depends on the number of bedrooms."
   ]
  },
  {
   "cell_type": "markdown",
   "id": "09e3f514",
   "metadata": {},
   "source": [
    "\n",
    "6. Add [PolynomialFeatures](https://scikit-learn.org/stable/modules/generated/sklearn.preprocessing.PolynomialFeatures.html) to your pipeline after the standard scaler. Try using degree 2 features. How does this change the performance of the regular linear regression model, the lasso model, and the ridge model? \n",
    "\n",
    "The lasso penalty tends to cause some coeffients to zero out, so it can be viewed as a method of automatic feature selection.\n"
   ]
  },
  {
   "cell_type": "code",
   "execution_count": 9,
   "id": "4c4853d2",
   "metadata": {},
   "outputs": [
    {
     "name": "stdout",
     "output_type": "stream",
     "text": [
      "mean squared error:  30926927395.20743\n"
     ]
    }
   ],
   "source": [
    "steps = [\n",
    "    (\"scale\", StandardScaler()),\n",
    "    (\"poly\", PolynomialFeatures(degree=2)),\n",
    "    (\"linreg\", LinearRegression())\n",
    "]\n",
    "\n",
    "pipeline = Pipeline(steps)\n",
    "pipeline.fit(X_train, y_train)\n",
    "y_pred = pipeline.predict(X_test)\n",
    "\n",
    "\n",
    "print(\"mean squared error: \", mean_squared_error(y_test, y_pred))\n"
   ]
  },
  {
   "cell_type": "code",
   "execution_count": 10,
   "id": "aaa74720",
   "metadata": {},
   "outputs": [
    {
     "name": "stdout",
     "output_type": "stream",
     "text": [
      "mean squared error:  30414023904.742867\n"
     ]
    }
   ],
   "source": [
    "steps = [\n",
    "    (\"scale\", StandardScaler()),\n",
    "    (\"poly\", PolynomialFeatures(degree=2)),\n",
    "    (\"lasso\", LassoCV())\n",
    "]\n",
    "\n",
    "pipeline = Pipeline(steps)\n",
    "pipeline.fit(X_train, y_train)\n",
    "y_pred = pipeline.predict(X_test)\n",
    "\n",
    "\n",
    "print(\"mean squared error: \", mean_squared_error(y_test, y_pred))\n"
   ]
  },
  {
   "cell_type": "code",
   "execution_count": 11,
   "id": "8916b9dc",
   "metadata": {},
   "outputs": [
    {
     "name": "stdout",
     "output_type": "stream",
     "text": [
      "mean squared error:  30933832194.40976\n"
     ]
    }
   ],
   "source": [
    "steps = [\n",
    "    (\"scale\", StandardScaler()),\n",
    "    (\"poly\", PolynomialFeatures(degree=2)),\n",
    "    (\"ridge\", RidgeCV())\n",
    "]\n",
    "\n",
    "pipeline = Pipeline(steps)\n",
    "pipeline.fit(X_train, y_train)\n",
    "y_pred = pipeline.predict(X_test)\n",
    "\n",
    "\n",
    "print(\"mean squared error: \", mean_squared_error(y_test, y_pred))\n"
   ]
  },
  {
   "cell_type": "markdown",
   "id": "9380929b",
   "metadata": {},
   "source": [
    "\n",
    "7. Look at the set of coefficients for the lasso model. What percentage of the coefficients are zero? What are the largest non-zero coefficients?\n"
   ]
  },
  {
   "cell_type": "code",
   "execution_count": 15,
   "id": "084dba1d",
   "metadata": {},
   "outputs": [
    {
     "name": "stdout",
     "output_type": "stream",
     "text": [
      "%-coefs zero = 48.538011695906434\n",
      "mean squared error:  25135804989.076466\n",
      "0.5146198830409356\n",
      "                   variable   coefficient\n",
      "161                   lat^2 -41215.451933\n",
      "154  yr_built sqft_living15 -25451.428122\n",
      "15                     long -23944.349431\n",
      "132              grade long -21063.775277\n",
      "12                 yr_built -18549.691563\n",
      "..                      ...           ...\n",
      "16            sqft_living15  38574.730072\n",
      "57        sqft_living grade  39077.771105\n",
      "14                      lat  70301.434205\n",
      "3               sqft_living  95077.950449\n",
      "9                     grade  96953.631743\n",
      "\n",
      "[171 rows x 2 columns]\n"
     ]
    }
   ],
   "source": [
    "steps = [\n",
    "    (\"scale\", StandardScaler()),\n",
    "    (\"poly\", PolynomialFeatures(degree=2)),\n",
    "    (\"lasso\", LassoCV())\n",
    "]\n",
    "\n",
    "pipeline = Pipeline(steps)\n",
    "pipeline.fit(X_train, y_train)\n",
    "y_pred = pipeline.predict(X_test)\n",
    "\n",
    "lasso_model = pipeline.named_steps['lasso']\n",
    "coefficients = lasso_model.coef_\n",
    "print(f\"%-coefs zero = {100 - np.count_nonzero(coefficients)/len(coefficients)*100}\")\n",
    "\n",
    "coefficients = pd.DataFrame({\n",
    "    'variable': pipeline[:-1].get_feature_names_out(),\n",
    "    'coefficient': pipeline['lasso'].coef_\n",
    "})\n",
    "\n",
    "print(\"mean squared error: \", mean_squared_error(y_test, y_pred))\n",
    "\n",
    "print((coefficients['coefficient'] != 0).mean())\n",
    "print(coefficients.sort_values('coefficient'))"
   ]
  },
  {
   "cell_type": "markdown",
   "id": "cde30d78",
   "metadata": {},
   "source": [
    "8. A new hyperparameter that we have is the degree of the polynomial we're using. So that we're not overfitting to the test set, we need to use cross-validation to select this value. Set up a [GridSearchCV](https://scikit-learn.org/stable/modules/generated/sklearn.model_selection.GridSearchCV.html) to try out polynomial degrees from 1 to 3 and to try LinearRegression, LassoCV, and RidgeCV models. Use 'neg_mean_squared_error' as the error_score. Which combination does it find does the best? "
   ]
  },
  {
   "cell_type": "code",
   "execution_count": 16,
   "id": "f0b884be",
   "metadata": {},
   "outputs": [
    {
     "name": "stdout",
     "output_type": "stream",
     "text": [
      "Fitting 5 folds for each of 9 candidates, totalling 45 fits\n",
      "[CV] END ...........model=LinearRegression(), poly__degree=1; total time=   0.0s\n",
      "[CV] END ...........model=LinearRegression(), poly__degree=1; total time=   0.0s\n",
      "[CV] END ...........model=LinearRegression(), poly__degree=1; total time=   0.0s\n",
      "[CV] END ...........model=LinearRegression(), poly__degree=1; total time=   0.0s\n",
      "[CV] END ...........model=LinearRegression(), poly__degree=1; total time=   0.0s\n",
      "[CV] END ...........model=LinearRegression(), poly__degree=2; total time=   0.1s\n",
      "[CV] END ...........model=LinearRegression(), poly__degree=2; total time=   0.1s\n",
      "[CV] END ...........model=LinearRegression(), poly__degree=2; total time=   0.1s\n",
      "[CV] END ...........model=LinearRegression(), poly__degree=2; total time=   0.1s\n",
      "[CV] END ...........model=LinearRegression(), poly__degree=2; total time=   0.1s\n",
      "[CV] END ...........model=LinearRegression(), poly__degree=3; total time=   0.9s\n",
      "[CV] END ...........model=LinearRegression(), poly__degree=3; total time=   0.9s\n",
      "[CV] END ...........model=LinearRegression(), poly__degree=3; total time=   0.9s\n",
      "[CV] END ...........model=LinearRegression(), poly__degree=3; total time=   0.9s\n",
      "[CV] END ...........model=LinearRegression(), poly__degree=3; total time=   0.9s\n",
      "[CV] END ......model=LassoCV(max_iter=10000), poly__degree=1; total time=   0.1s\n",
      "[CV] END ......model=LassoCV(max_iter=10000), poly__degree=1; total time=   0.1s\n",
      "[CV] END ......model=LassoCV(max_iter=10000), poly__degree=1; total time=   0.1s\n",
      "[CV] END ......model=LassoCV(max_iter=10000), poly__degree=1; total time=   0.1s\n",
      "[CV] END ......model=LassoCV(max_iter=10000), poly__degree=1; total time=   0.1s\n",
      "[CV] END ......model=LassoCV(max_iter=10000), poly__degree=2; total time=   0.3s\n",
      "[CV] END ......model=LassoCV(max_iter=10000), poly__degree=2; total time=   0.3s\n",
      "[CV] END ......model=LassoCV(max_iter=10000), poly__degree=2; total time=   0.9s\n",
      "[CV] END ......model=LassoCV(max_iter=10000), poly__degree=2; total time=   0.6s\n",
      "[CV] END ......model=LassoCV(max_iter=10000), poly__degree=2; total time=   0.3s\n",
      "[CV] END ......model=LassoCV(max_iter=10000), poly__degree=3; total time=  16.2s\n",
      "[CV] END ......model=LassoCV(max_iter=10000), poly__degree=3; total time=   8.2s\n",
      "[CV] END ......model=LassoCV(max_iter=10000), poly__degree=3; total time=   8.1s\n",
      "[CV] END ......model=LassoCV(max_iter=10000), poly__degree=3; total time=   7.0s\n",
      "[CV] END ......model=LassoCV(max_iter=10000), poly__degree=3; total time=  12.1s\n",
      "[CV] END ....................model=RidgeCV(), poly__degree=1; total time=   0.0s\n",
      "[CV] END ....................model=RidgeCV(), poly__degree=1; total time=   0.0s\n",
      "[CV] END ....................model=RidgeCV(), poly__degree=1; total time=   0.0s\n",
      "[CV] END ....................model=RidgeCV(), poly__degree=1; total time=   0.0s\n",
      "[CV] END ....................model=RidgeCV(), poly__degree=1; total time=   0.0s\n",
      "[CV] END ....................model=RidgeCV(), poly__degree=2; total time=   0.1s\n",
      "[CV] END ....................model=RidgeCV(), poly__degree=2; total time=   0.1s\n",
      "[CV] END ....................model=RidgeCV(), poly__degree=2; total time=   0.1s\n",
      "[CV] END ....................model=RidgeCV(), poly__degree=2; total time=   0.1s\n",
      "[CV] END ....................model=RidgeCV(), poly__degree=2; total time=   0.1s\n",
      "[CV] END ....................model=RidgeCV(), poly__degree=3; total time=   1.7s\n",
      "[CV] END ....................model=RidgeCV(), poly__degree=3; total time=   1.7s\n",
      "[CV] END ....................model=RidgeCV(), poly__degree=3; total time=   1.6s\n",
      "[CV] END ....................model=RidgeCV(), poly__degree=3; total time=   1.7s\n",
      "[CV] END ....................model=RidgeCV(), poly__degree=3; total time=   1.6s\n"
     ]
    },
    {
     "name": "stderr",
     "output_type": "stream",
     "text": [
      "/Users/drewrichard/Documents/projects/nss/nss_projects/.venv/lib/python3.11/site-packages/sklearn/model_selection/_validation.py:528: FitFailedWarning: \n",
      "1 fits failed out of a total of 45.\n",
      "The score on these train-test partitions for these parameters will be set to nan.\n",
      "If these failures are not expected, you can try to debug them by setting error_score='raise'.\n",
      "\n",
      "Below are more details about the failures:\n",
      "--------------------------------------------------------------------------------\n",
      "1 fits failed with the following error:\n",
      "Traceback (most recent call last):\n",
      "  File \"/Users/drewrichard/Documents/projects/nss/nss_projects/.venv/lib/python3.11/site-packages/sklearn/model_selection/_validation.py\", line 866, in _fit_and_score\n",
      "    estimator.fit(X_train, y_train, **fit_params)\n",
      "  File \"/Users/drewrichard/Documents/projects/nss/nss_projects/.venv/lib/python3.11/site-packages/sklearn/base.py\", line 1389, in wrapper\n",
      "    return fit_method(estimator, *args, **kwargs)\n",
      "           ^^^^^^^^^^^^^^^^^^^^^^^^^^^^^^^^^^^^^^\n",
      "  File \"/Users/drewrichard/Documents/projects/nss/nss_projects/.venv/lib/python3.11/site-packages/sklearn/pipeline.py\", line 662, in fit\n",
      "    self._final_estimator.fit(Xt, y, **last_step_params[\"fit\"])\n",
      "  File \"/Users/drewrichard/Documents/projects/nss/nss_projects/.venv/lib/python3.11/site-packages/sklearn/base.py\", line 1389, in wrapper\n",
      "    return fit_method(estimator, *args, **kwargs)\n",
      "           ^^^^^^^^^^^^^^^^^^^^^^^^^^^^^^^^^^^^^^\n",
      "  File \"/Users/drewrichard/Documents/projects/nss/nss_projects/.venv/lib/python3.11/site-packages/sklearn/linear_model/_base.py\", line 682, in fit\n",
      "    self.coef_, _, self.rank_, self.singular_ = linalg.lstsq(X, y, cond=cond)\n",
      "                                                ^^^^^^^^^^^^^^^^^^^^^^^^^^^^^\n",
      "  File \"/Users/drewrichard/Documents/projects/nss/nss_projects/.venv/lib/python3.11/site-packages/scipy/linalg/_basic.py\", line 1478, in lstsq\n",
      "    raise LinAlgError(\"SVD did not converge in Linear Least Squares\")\n",
      "numpy.linalg.LinAlgError: SVD did not converge in Linear Least Squares\n",
      "\n",
      "  warnings.warn(some_fits_failed_message, FitFailedWarning)\n",
      "/Users/drewrichard/Documents/projects/nss/nss_projects/.venv/lib/python3.11/site-packages/sklearn/model_selection/_search.py:1108: UserWarning: One or more of the test scores are non-finite: [-4.13665720e+10             nan -5.29039371e+11 -4.13655535e+10\n",
      " -2.91577683e+10 -3.07040038e+10 -4.13654783e+10 -2.95139716e+10\n",
      " -2.88765299e+11]\n",
      "  warnings.warn(\n"
     ]
    },
    {
     "name": "stdout",
     "output_type": "stream",
     "text": [
      "best params = {'model': LassoCV(max_iter=10000), 'poly__degree': 2}\n",
      "best score = -29157768309.902992\n",
      "best pipeline = Pipeline(steps=[('scale', StandardScaler()), ('poly', PolynomialFeatures()),\n",
      "                ('model', LassoCV(max_iter=10000))])\n",
      "best model = LassoCV(max_iter=10000)\n"
     ]
    }
   ],
   "source": [
    "predictors = list(house_data.drop(columns=[\"id\", \"date\", \"price\", \"zipcode\"]).columns)\n",
    "target = \"price\"\n",
    "\n",
    "X = house_data[predictors]\n",
    "y = house_data[target]\n",
    "\n",
    "X_train, X_test, y_train, y_test = train_test_split(X, y, test_size = 0.3, random_state = 321)\n",
    "\n",
    "pipeline = Pipeline([\n",
    "        (\"scale\", StandardScaler()),\n",
    "        (\"poly\", PolynomialFeatures()),\n",
    "        (\"model\", LinearRegression())\n",
    "])\n",
    "\n",
    "param_grid = {\n",
    "    \"poly__degree\": [1, 2, 3],\n",
    "    \"model\": [LinearRegression(), LassoCV(max_iter = 10000), RidgeCV()],\n",
    "}\n",
    "\n",
    "gs = GridSearchCV(\n",
    "    estimator=pipeline,\n",
    "    param_grid=param_grid,\n",
    "    scoring='neg_mean_squared_error',\n",
    "    cv=5,\n",
    "    # n_jobs=-1,\n",
    "    verbose=2\n",
    ")\n",
    "\n",
    "gs.fit(X_train, y_train)\n",
    "print(f\"best params = {gs.best_params_}\")\n",
    "print(f\"best score = {gs.best_score_}\")\n",
    "print(f\"best pipeline = {gs.best_estimator_}\")\n",
    "best_model = gs.best_estimator_.named_steps['model']\n",
    "print(f\"best model = {best_model}\")\n",
    "\n"
   ]
  },
  {
   "cell_type": "markdown",
   "id": "8c2bcb91",
   "metadata": {},
   "source": [
    "** If you've reached this point, let your instructors know so that they can check in with you. **"
   ]
  },
  {
   "cell_type": "markdown",
   "id": "927ca95e",
   "metadata": {},
   "source": [
    "\n",
    "Stretch Goals:\n",
    "\n",
    "1. With home prices, there are some extremely large values for price, which can overly-influence the mean squared error calculation. See what happens if you optimize for mean absolute error instead. Alternatively, try using a [TransformedTargetRegressor](https://scikit-learn.org/stable/modules/generated/sklearn.compose.TransformedTargetRegressor.html) to predict the log of price instead of the raw price.\n"
   ]
  },
  {
   "cell_type": "code",
   "execution_count": null,
   "id": "2d2204bc",
   "metadata": {},
   "outputs": [
    {
     "name": "stderr",
     "output_type": "stream",
     "text": [
      "/Users/drewrichard/Documents/projects/nss/nss_projects/.venv/lib/python3.11/site-packages/joblib/externals/loky/process_executor.py:752: UserWarning: A worker stopped while some jobs were given to the executor. This can be caused by a too short worker timeout or by a memory leak.\n",
      "  warnings.warn(\n"
     ]
    },
    {
     "name": "stdout",
     "output_type": "stream",
     "text": [
      "best params = {'model': LassoCV(max_iter=10000), 'poly__degree': 3}\n",
      "best score = -101897.9617589312\n",
      "best pipeline = Pipeline(steps=[('normalize', StandardScaler()),\n",
      "                ('poly', PolynomialFeatures(degree=3)),\n",
      "                ('model', LassoCV(max_iter=10000))])\n",
      "best model = LassoCV(max_iter=10000)\n"
     ]
    }
   ],
   "source": [
    "predictors = list(house_data.drop(columns=[\"id\", \"date\", \"price\", \"zipcode\"]).columns)\n",
    "target = \"price\"\n",
    "X = house_data[predictors]\n",
    "y = house_data[target]\n",
    "X_train, X_test, y_train, y_test = train_test_split(X, y, test_size = 0.3, random_state = 321)\n",
    "pipeline = Pipeline(\n",
    "    [\n",
    "        (\"normalize\", StandardScaler()),\n",
    "        (\"poly\", PolynomialFeatures()),\n",
    "        (\"model\", LassoCV())\n",
    "    ]\n",
    ")\n",
    "param_grid = {\n",
    "    \"poly__degree\": [1, 2, 3],\n",
    "    \"model\": [LassoCV(max_iter = 10000), RidgeCV()],\n",
    "}\n",
    "gs = GridSearchCV(\n",
    "    estimator=pipeline,\n",
    "    param_grid=param_grid,\n",
    "    scoring='neg_mean_absolute_error',\n",
    "    cv=5,\n",
    "    n_jobs=-1\n",
    "    # verbose=2,\n",
    "    # pre_dispatch='2*n_jobs'\n",
    ")\n",
    "gs.fit(X_train, y_train)\n",
    "print(f\"best params = {gs.best_params_}\")\n",
    "print(f\"best score = {gs.best_score_}\")\n",
    "print(f\"best pipeline = {gs.best_estimator_}\")\n",
    "best_model = gs.best_estimator_.named_steps['model']\n",
    "print(f\"best model = {best_model}\")\n",
    "# mean absolute error brings the error term to the same scale as our target, so it's easier to understand. an error of around $101K is still pretty large, but very bad.\n"
   ]
  },
  {
   "cell_type": "code",
   "execution_count": null,
   "id": "0c931f66",
   "metadata": {},
   "outputs": [
    {
     "name": "stderr",
     "output_type": "stream",
     "text": [
      "/Users/drewrichard/Documents/projects/nss/nss_projects/.venv/lib/python3.11/site-packages/joblib/externals/loky/process_executor.py:752: UserWarning: A worker stopped while some jobs were given to the executor. This can be caused by a too short worker timeout or by a memory leak.\n",
      "  warnings.warn(\n"
     ]
    },
    {
     "name": "stdout",
     "output_type": "stream",
     "text": [
      "best params = {'model': TransformedTargetRegressor(func=<ufunc 'log'>, inverse_func=<ufunc 'exp'>,\n",
      "                           regressor=LassoCV(max_iter=10000)), 'poly__degree': 3}\n",
      "best score = -91578.46123978362\n",
      "best pipeline = Pipeline(steps=[('normalize', StandardScaler()),\n",
      "                ('poly', PolynomialFeatures(degree=3)),\n",
      "                ('model',\n",
      "                 TransformedTargetRegressor(func=<ufunc 'log'>,\n",
      "                                            inverse_func=<ufunc 'exp'>,\n",
      "                                            regressor=LassoCV(max_iter=10000)))])\n",
      "best model = TransformedTargetRegressor(func=<ufunc 'log'>, inverse_func=<ufunc 'exp'>,\n",
      "                           regressor=LassoCV(max_iter=10000))\n"
     ]
    }
   ],
   "source": [
    "\n",
    "#TransformedTargetRegressor\n",
    "predictors = list(house_data.drop(columns=[\"id\", \"date\", \"price\", \"zipcode\"]).columns)\n",
    "target = \"price\"\n",
    "X = house_data[predictors]\n",
    "y = house_data[target]\n",
    "X_train, X_test, y_train, y_test = train_test_split(X, y, test_size = 0.3, random_state = 321)\n",
    "pipeline = Pipeline(\n",
    "    [\n",
    "        (\"normalize\", StandardScaler()),\n",
    "        (\"poly\", PolynomialFeatures()),\n",
    "        (\"model\", LassoCV()),\n",
    "    ]\n",
    ")\n",
    "param_grid = {\n",
    "    \"poly__degree\": [1, 2, 3],\n",
    "    \"model\": [\n",
    "        LassoCV(max_iter = 10000),\n",
    "        RidgeCV(),\n",
    "        TransformedTargetRegressor(\n",
    "            regressor = LassoCV(max_iter = 10000),\n",
    "            func=np.log,\n",
    "            inverse_func=np.exp\n",
    "        ),\n",
    "        TransformedTargetRegressor(\n",
    "            regressor = RidgeCV(),\n",
    "            func=np.log,\n",
    "            inverse_func=np.exp\n",
    "        )\n",
    "    ],\n",
    "}\n",
    "gs = GridSearchCV(\n",
    "    estimator=pipeline,\n",
    "    param_grid=param_grid,\n",
    "    scoring='neg_mean_absolute_error',\n",
    "    cv=5,\n",
    "    n_jobs=-1\n",
    "    # verbose=2,\n",
    "    # pre_dispatch='2*n_jobs'\n",
    ")\n",
    "gs.fit(X_train, y_train)\n",
    "print(f\"best params = {gs.best_params_}\")\n",
    "print(f\"best score = {gs.best_score_}\")\n",
    "print(f\"best pipeline = {gs.best_estimator_}\")\n",
    "best_model = gs.best_estimator_.named_steps['model']\n",
    "print(f\"best model = {best_model}\")\n"
   ]
  },
  {
   "cell_type": "markdown",
   "id": "60a6210a",
   "metadata": {},
   "source": [
    "\n",
    "**Bonus Exercise** We've seen how a decision tree model has move flexibility, which mean higher variance compared to a linear regression model. One way of understanding variance is that variance describes how sensitive the model is to the training data. A model with high variance can produce vastly different predictions when trained on different subsets.\n",
    "\n",
    "In this bonus exercise, you'll get to see this in action.\n",
    "\n",
    "Generate 1000 different linear regression fits, where you only use sqft_living as the predictor variable. For each fit, choose a random sample from the full dataset of size 1000. \n",
    "Using the np.linspace function, generate a grid of 100 equally-spaced points between 500 and 3000 and generate predictions on those points. Plot the mean prediction, the 5th percentile, and the 95th percentile for the predictions from these thousand models. Repeat this for a decision tree model. Then do it for a decision tree model with a max_depth of 5.\n",
    "\n",
    "How do these predictions differ? Which have the most variability?\n"
   ]
  }
 ],
 "metadata": {
  "kernelspec": {
   "display_name": ".venv",
   "language": "python",
   "name": "python3"
  },
  "language_info": {
   "codemirror_mode": {
    "name": "ipython",
    "version": 3
   },
   "file_extension": ".py",
   "mimetype": "text/x-python",
   "name": "python",
   "nbconvert_exporter": "python",
   "pygments_lexer": "ipython3",
   "version": "3.11.11"
  }
 },
 "nbformat": 4,
 "nbformat_minor": 5
}
